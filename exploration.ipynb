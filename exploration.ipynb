{
 "cells": [
  {
   "cell_type": "code",
   "execution_count": 5,
   "metadata": {},
   "outputs": [
    {
     "name": "stdout",
     "output_type": "stream",
     "text": [
      "\n",
      "Top 8 sources:\n",
      "MEDCIN: 1030279\n",
      "MSH: 1010573\n",
      "SNOMEDCT_US: 988281\n",
      "NCBI: 959266\n",
      "LNC: 710351\n",
      "NCI: 448134\n",
      "ICD10PCS: 271054\n",
      "MTH: 255269\n"
     ]
    }
   ],
   "source": [
    "from collections import defaultdict\n",
    "\n",
    "input_file = 'MRCONSO_ENG.txt'\n",
    "\n",
    "sab_count = defaultdict(int)\n",
    "\n",
    "with open(input_file, 'r', encoding='utf-8') as file:\n",
    "    for line in file:\n",
    "        fields = line.strip().split('|')\n",
    "        sab = fields[11]  # SAB is at index 11\n",
    "        sab_count[sab] += 1\n",
    "\n",
    "\n",
    "\n",
    "    \n"
   ]
  },
  {
   "cell_type": "code",
   "execution_count": 6,
   "metadata": {},
   "outputs": [
    {
     "name": "stdout",
     "output_type": "stream",
     "text": [
      "\n",
      "Top 10 sources:\n",
      "MEDCIN: 1030279\n",
      "MSH: 1010573\n",
      "SNOMEDCT_US: 988281\n",
      "NCBI: 959266\n",
      "LNC: 710351\n",
      "NCI: 448134\n",
      "ICD10PCS: 271054\n",
      "MTH: 255269\n",
      "HGNC: 234434\n",
      "RXNORM: 198770\n"
     ]
    }
   ],
   "source": [
    "# 10 max counts\n",
    "max_count = 10\n",
    "print(f\"\\nTop {max_count} sources:\")\n",
    "for sab, count in sorted(sab_count.items(), key=lambda x: x[1], reverse=True)[:max_count]:\n",
    "    print(f\"{sab}: {count}\")"
   ]
  },
  {
   "cell_type": "markdown",
   "metadata": {},
   "source": [
    "In MRCONSOENG.RFF I want to retrieve samples from source vocabulary RX_NORM and MTH. For RXNORM select only lines about TTY  IN and BN. For MTH select only lines about TTY BD and PN. I want the concept ID and the string of the concerned lines. "
   ]
  },
  {
   "cell_type": "code",
   "execution_count": 7,
   "metadata": {},
   "outputs": [
    {
     "name": "stdout",
     "output_type": "stream",
     "text": [
      "Filtered entries have been written to CONCEPT_RXNORM_MTH.txt\n"
     ]
    }
   ],
   "source": [
    "# Define the input and output file paths\n",
    "input_file = 'MRCONSO_ENG.txt'\n",
    "output_file = 'CONCEPT_RXNORM_MTH.txt'\n",
    "\n",
    "# Define conditions for source vocabularies and their relevant TTYs\n",
    "conditions = {\n",
    "    'RXNORM': {'IN', 'BN'},  # Include only these TTYs for RXNORM\n",
    "    'MTH': {'BD', 'PN'}      # Include only these TTYs for MTH\n",
    "}\n",
    "\n",
    "# Open the output file for writing\n",
    "with open(output_file, 'w', encoding='utf-8') as outfile:\n",
    "    # Read the MRCONSO_ENG.txt file\n",
    "    with open(input_file, 'r', encoding='utf-8') as infile:\n",
    "        for line in infile:\n",
    "            fields = line.strip().split('|')\n",
    "            sab = fields[11]  # SAB is at index 11\n",
    "            tty = fields[12]  # TTY is at index 12\n",
    "            cui = fields[0]   # CUI is at index 0\n",
    "            string = fields[14]  # STR is at index 14\n",
    "\n",
    "            # Check if the line matches any of the conditions\n",
    "            if sab in conditions and tty in conditions[sab]:\n",
    "                # Write concept ID and string to the output file\n",
    "                outfile.write(f\"{cui}|{string}\\n\")\n",
    "\n",
    "print(f\"Filtered entries have been written to {output_file}\")\n"
   ]
  },
  {
   "cell_type": "code",
   "execution_count": 8,
   "metadata": {},
   "outputs": [
    {
     "name": "stdout",
     "output_type": "stream",
     "text": [
      "Filtered entries for RXNORM have been written to CONCEPT_RXNORM.txt\n",
      "Filtered entries for MTH have been written to CONCEPT_MTH.txt\n"
     ]
    }
   ],
   "source": [
    "# Define the input file path\n",
    "input_file = 'MRCONSO_ENG.txt'\n",
    "\n",
    "# Define output file paths for each source vocabulary\n",
    "output_file_rxnorm = 'CONCEPT_RXNORM.txt'\n",
    "output_file_mth = 'CONCEPT_MTH.txt'\n",
    "\n",
    "# Define conditions for source vocabularies and their relevant TTYs\n",
    "conditions = {\n",
    "    'RXNORM': {'IN', 'BN'},  # Include only these TTYs for RXNORM\n",
    "    'MTH': {'BD'}      # Include only these TTYs for MTH\n",
    "}\n",
    "\n",
    "# Open the output files for writing\n",
    "with open(output_file_rxnorm, 'w', encoding='utf-8') as outfile_rxnorm, \\\n",
    "     open(output_file_mth, 'w', encoding='utf-8') as outfile_mth:\n",
    "\n",
    "    # Read the MRCONSO_ENG.txt file\n",
    "    with open(input_file, 'r', encoding='utf-8') as infile:\n",
    "        for line in infile:\n",
    "            fields = line.strip().split('|')\n",
    "            sab = fields[11]  # SAB is at index 11\n",
    "            tty = fields[12]  # TTY is at index 12\n",
    "            cui = fields[0]   # CUI is at index 0\n",
    "            string = fields[14]  # STR is at index 14\n",
    "\n",
    "            # Check if the line matches any of the conditions\n",
    "            if sab in conditions and tty in conditions[sab]:\n",
    "                formatted_line = f\"{cui}|{string}\\n\"\n",
    "                if sab == 'RXNORM':\n",
    "                    outfile_rxnorm.write(formatted_line)\n",
    "                elif sab == 'MTH':\n",
    "                    outfile_mth.write(formatted_line)\n",
    "\n",
    "print(f\"Filtered entries for RXNORM have been written to {output_file_rxnorm}\")\n",
    "print(f\"Filtered entries for MTH have been written to {output_file_mth}\")\n"
   ]
  },
  {
   "cell_type": "markdown",
   "metadata": {},
   "source": [
    "LETS FOCUS ON RXNORM\n",
    "induced_by\n",
    "contraindicated_mechanism_of_action_of\n",
    "induces\n",
    "modified_by\n",
    "has_contraindicated_drug\n",
    "modifies\n",
    "effect_may_be_inhibited_by\n",
    "may_inhibit_effect_of"
   ]
  },
  {
   "cell_type": "code",
   "execution_count": 9,
   "metadata": {},
   "outputs": [
    {
     "name": "stdout",
     "output_type": "stream",
     "text": [
      "Filtered interactions have been written to RXNORM_interactions.txt\n"
     ]
    }
   ],
   "source": [
    "# Define input file paths\n",
    "rxnorm_concepts_file = 'CONCEPT_RXNORM.txt'\n",
    "mrrel_file = 'MRREL.RRF'\n",
    "output_file = 'RXNORM_interactions.txt'\n",
    "\n",
    "# Load RXNORM Concept IDs into a set\n",
    "rxnorm_concepts = set()\n",
    "with open(rxnorm_concepts_file, 'r', encoding='utf-8') as file:\n",
    "    for line in file:\n",
    "        cui = line.strip().split('|')[0]\n",
    "        rxnorm_concepts.add(cui)\n",
    "\n",
    "# Define desired relationship types\n",
    "desired_relationships = {\n",
    "    'induced_by', \n",
    "    'contraindicated_mechanism_of_action_of', \n",
    "    'induces', \n",
    "    'modified_by', \n",
    "    'has_contraindicated_drug', \n",
    "    'modifies', \n",
    "    'effect_may_be_inhibited_by', \n",
    "    'may_inhibit_effect_of'\n",
    "}\n",
    "\n",
    "# Open the output file for writing filtered interactions\n",
    "with open(output_file, 'w', encoding='utf-8') as outfile:\n",
    "    # Read MRREL.RRF and filter interactions\n",
    "    with open(mrrel_file, 'r', encoding='utf-8') as infile:\n",
    "        for line in infile:\n",
    "            fields = line.strip().split('|')\n",
    "            cui1 = fields[0]\n",
    "            cui2 = fields[4]\n",
    "            rel = fields[7]\n",
    "\n",
    "            # Check if both CUIs are in RXNORM concepts and the relationship type is desired\n",
    "            if cui1 in rxnorm_concepts and cui2 in rxnorm_concepts and rel in desired_relationships:\n",
    "                outfile.write(line)\n",
    "\n",
    "print(f\"Filtered interactions have been written to {output_file}\")\n"
   ]
  },
  {
   "cell_type": "code",
   "execution_count": 10,
   "metadata": {},
   "outputs": [
    {
     "name": "stdout",
     "output_type": "stream",
     "text": [
      "Translated interactions have been written to translated_interactions.txt\n"
     ]
    }
   ],
   "source": [
    "# Define file paths\n",
    "rxnorm_concepts_file = 'CONCEPT_RXNORM.txt'\n",
    "mrrel_file = 'MRREL.RRF'\n",
    "output_interactions_file = 'translated_interactions.txt'\n",
    "\n",
    "# Load RXNORM Concept IDs and names into a dictionary\n",
    "concept_names = {}\n",
    "with open(rxnorm_concepts_file, 'r', encoding='utf-8') as file:\n",
    "    for line in file:\n",
    "        parts = line.strip().split('|')\n",
    "        cui = parts[0]\n",
    "        name = parts[1]\n",
    "        concept_names[cui] = name\n",
    "\n",
    "# Define desired relationship types\n",
    "desired_relationships = {\n",
    "    'induced_by', \n",
    "    'contraindicated_mechanism_of_action_of', \n",
    "    'induces', \n",
    "    'modified_by', \n",
    "    'has_contraindicated_drug', \n",
    "    'modifies', \n",
    "    'effect_may_be_inhibited_by', \n",
    "    'may_inhibit_effect_of'\n",
    "}\n",
    "\n",
    "# Open the output file for writing translated interactions\n",
    "with open(output_interactions_file, 'w', encoding='utf-8') as outfile:\n",
    "    # Read MRREL.RRF and filter interactions\n",
    "    with open(mrrel_file, 'r', encoding='utf-8') as infile:\n",
    "        for line in infile:\n",
    "            fields = line.strip().split('|')\n",
    "            cui1 = fields[0]\n",
    "            cui2 = fields[4]\n",
    "            rel = fields[7]\n",
    "\n",
    "            # Check if both CUIs are in concept_names and the relationship type is desired\n",
    "            if cui1 in concept_names and cui2 in concept_names and rel in desired_relationships:\n",
    "                concept1_name = concept_names[cui1]\n",
    "                concept2_name = concept_names[cui2]\n",
    "                # Write the interaction with concept names to the output file\n",
    "                outfile.write(f\"{concept1_name}, {rel}, {concept2_name}\\n\")\n",
    "\n",
    "print(f\"Translated interactions have been written to {output_interactions_file}\")\n"
   ]
  },
  {
   "cell_type": "markdown",
   "metadata": {},
   "source": [
    "if not pais but just one concept is in both of the realtion what happens"
   ]
  },
  {
   "cell_type": "code",
   "execution_count": 14,
   "metadata": {},
   "outputs": [],
   "source": [
    "# # Define file paths\n",
    "# rxnorm_concepts_file = './RXNORM/CONCEPT_RXNORM.txt'\n",
    "# mrrel_file = 'MRREL.RRF'\n",
    "# output_interactions_file = 'translated_interactions_atleast1.txt'\n",
    "\n",
    "# # Load RXNORM Concept IDs and names into a dictionary\n",
    "# concept_names = {}\n",
    "# with open(rxnorm_concepts_file, 'r', encoding='utf-8') as file:\n",
    "#     for line in file:\n",
    "#         parts = line.strip().split('|')\n",
    "#         cui = parts[0]\n",
    "#         name = parts[1]\n",
    "#         concept_names[cui] = name\n",
    "\n",
    "# # Define desired relationship types\n",
    "# desired_relationships = {\n",
    "#     'induced_by', \n",
    "#     'contraindicated_mechanism_of_action_of', \n",
    "#     'induces', \n",
    "#     'modified_by', \n",
    "#     'has_contraindicated_drug', \n",
    "#     'modifies', \n",
    "#     'effect_may_be_inhibited_by', \n",
    "#     'may_inhibit_effect_of'\n",
    "# }\n",
    "\n",
    "# # Open the output file for writing translated interactions\n",
    "# with open(output_interactions_file, 'w', encoding='utf-8') as outfile:\n",
    "#     # Read MRREL.RRF and filter interactions\n",
    "#     with open(mrrel_file, 'r', encoding='utf-8') as infile:\n",
    "#         for line in infile:\n",
    "#             fields = line.strip().split('|')\n",
    "#             cui1 = fields[0]\n",
    "#             cui2 = fields[4]\n",
    "#             rel = fields[7]\n",
    "\n",
    "#             # Modify the condition to check if at least one of the CUIs is in concept_names\n",
    "#             if (cui1 in concept_names or cui2 in concept_names) and rel in desired_relationships:\n",
    "#                 # Use the names from concept_names if available, otherwise use the CUI\n",
    "#                 concept1_name = concept_names.get(cui1, cui1)\n",
    "#                 concept2_name = concept_names.get(cui2, cui2)\n",
    "\n",
    "#                 # Write the interaction with concept names to the output file\n",
    "#                 outfile.write(f\"{concept1_name}, {rel}, {concept2_name}\\n\")\n",
    "\n",
    "# print(f\"Translated interactions have been written to {output_interactions_file}\")\n"
   ]
  },
  {
   "cell_type": "markdown",
   "metadata": {},
   "source": [
    "FOCUS ON MTH "
   ]
  },
  {
   "cell_type": "code",
   "execution_count": 18,
   "metadata": {},
   "outputs": [
    {
     "name": "stdout",
     "output_type": "stream",
     "text": [
      "Filtered entries for MTH have been written to CONCEPT_MMSL.txt\n"
     ]
    }
   ],
   "source": [
    "# Define the input file path\n",
    "input_file = 'MRCONSO_ENG.txt'\n",
    "\n",
    "# Define output file path for MTH\n",
    "output_file_mth = 'CONCEPT_MMSL.txt'\n",
    "\n",
    "# Define conditions for source vocabularies and their relevant TTYs\n",
    "conditions = {\n",
    "    'MMSL': {'BN'}      # Include only these TTYs for MTH\n",
    "}\n",
    "\n",
    "# Open the output file for writing\n",
    "with open(output_file_mth, 'w', encoding='utf-8') as outfile_mth:\n",
    "\n",
    "    # Read the MRCONSO_ENG.txt file\n",
    "    with open(input_file, 'r', encoding='utf-8') as infile:\n",
    "        for line in infile:\n",
    "            fields = line.strip().split('|')\n",
    "            sab = fields[11]  # SAB is at index 11\n",
    "            tty = fields[12]  # TTY is at index 12\n",
    "            cui = fields[0]   # CUI is at index 0\n",
    "            string = fields[14]  # STR is at index 14\n",
    "\n",
    "            # Check if the line matches any of the conditions\n",
    "            if sab == 'MMSL' and tty in conditions[sab]:\n",
    "                formatted_line = f\"{cui}|{string}\\n\"\n",
    "                outfile_mth.write(formatted_line)\n",
    "\n",
    "print(f\"Filtered entries for MTH have been written to {output_file_mth}\")\n"
   ]
  },
  {
   "cell_type": "code",
   "execution_count": 20,
   "metadata": {},
   "outputs": [
    {
     "name": "stdout",
     "output_type": "stream",
     "text": [
      "Concatenated entries have been written to CONCEPTS_RXNORM_MMSL.txt\n"
     ]
    }
   ],
   "source": [
    "# concatenate CONCEPT_RXNORM.txt and CONCEPT_MMSL.txt\n",
    "# Define the input file paths\n",
    "rxnorm_file = 'RXNORM/CONCEPT_RXNORM.txt'\n",
    "mmsl_file = 'CONCEPT_MMSL.txt'\n",
    "\n",
    "# Define the output file path\n",
    "output_file = 'CONCEPTS_RXNORM_MMSL.txt'\n",
    "\n",
    "# Open the output file for writing\n",
    "with open(output_file, 'w', encoding='utf-8') as outfile:\n",
    "    # Read RXNORM and write to the output file\n",
    "    with open(rxnorm_file, 'r', encoding='utf-8') as infile:\n",
    "        for line in infile:\n",
    "            outfile.write(line)\n",
    "\n",
    "    # Read MMSL and write to the output file\n",
    "    with open(mmsl_file, 'r', encoding='utf-8') as infile:\n",
    "        for line in infile:\n",
    "            outfile.write(line)\n",
    "            \n",
    "print(f\"Concatenated entries have been written to {output_file}\")\n"
   ]
  },
  {
   "cell_type": "code",
   "execution_count": 21,
   "metadata": {},
   "outputs": [
    {
     "name": "stdout",
     "output_type": "stream",
     "text": [
      "Filtered interactions have been written to RXNORM_MMSL_interactions.txt\n"
     ]
    }
   ],
   "source": [
    "# Define input file paths\n",
    "rxnorm_mmsl_file = 'CONCEPTS_RXNORM_MMSL.txt'\n",
    "mrrel_file = 'MRREL.RRF'\n",
    "output_file = 'RXNORM_MMSL_interactions.txt'\n",
    "\n",
    "# Load RXNORM Concept IDs into a set\n",
    "rxnorm_mmsl_consept= set()\n",
    "with open(rxnorm_mmsl_file, 'r', encoding='utf-8') as file:\n",
    "    for line in file:\n",
    "        cui = line.strip().split('|')[0]\n",
    "        rxnorm_mmsl_consept.add(cui)\n",
    "        \n",
    "        \n",
    "\n",
    "# Define desired relationship types\n",
    "desired_relationships = {\n",
    "    'induced_by', \n",
    "    'contraindicated_mechanism_of_action_of', \n",
    "    'induces', \n",
    "    'modified_by', \n",
    "    'has_contraindicated_drug', \n",
    "    'modifies', \n",
    "    'effect_may_be_inhibited_by', \n",
    "    'may_inhibit_effect_of'\n",
    "}\n",
    "\n",
    "# Open the output file for writing filtered interactions\n",
    "with open(output_file, 'w', encoding='utf-8') as outfile:\n",
    "    # Read MRREL.RRF and filter interactions\n",
    "    with open(mrrel_file, 'r', encoding='utf-8') as infile:\n",
    "        for line in infile:\n",
    "            fields = line.strip().split('|')\n",
    "            cui1 = fields[0]\n",
    "            cui2 = fields[4]\n",
    "            rel = fields[7]\n",
    "\n",
    "            # Check if both CUIs are in RXNORM_MMSL concepts and the relationship type is desired\n",
    "            if cui1 in rxnorm_mmsl_consept and cui2 in rxnorm_mmsl_consept and rel in desired_relationships:\n",
    "                outfile.write(line)\n",
    "\n",
    "print(f\"Filtered interactions have been written to {output_file}\")\n"
   ]
  }
 ],
 "metadata": {
  "kernelspec": {
   "display_name": "Python 3",
   "language": "python",
   "name": "python3"
  },
  "language_info": {
   "codemirror_mode": {
    "name": "ipython",
    "version": 3
   },
   "file_extension": ".py",
   "mimetype": "text/x-python",
   "name": "python",
   "nbconvert_exporter": "python",
   "pygments_lexer": "ipython3",
   "version": "3.9.7"
  }
 },
 "nbformat": 4,
 "nbformat_minor": 2
}
