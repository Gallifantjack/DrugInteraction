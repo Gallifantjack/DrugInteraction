{
 "cells": [
  {
   "cell_type": "markdown",
   "metadata": {},
   "source": [
    "## GOAL 1 : Have a list of conept ID and their synonyms to play with it for MCQ questions"
   ]
  },
  {
   "cell_type": "code",
   "execution_count": 1,
   "metadata": {},
   "outputs": [],
   "source": [
    "# Define the input file path\n",
    "input_file = 'MRCONSO_ENG.txt'\n",
    "\n",
    "# Initialize a dictionary to hold the concept IDs and their synonyms/preferred terms\n",
    "concept_dict = {}\n",
    "\n",
    "# Open the filtered file and process each line\n",
    "with open(input_file, 'r', encoding='utf-8') as file:\n",
    "    for line in file:\n",
    "        # Split the line by '|'\n",
    "        fields = line.strip().split('|')\n",
    "        \n",
    "        # Extract the relevant fields\n",
    "        concept_id = fields[0]  # CUI\n",
    "        term = fields[14]  # The synonym or preferred term\n",
    "        \n",
    "        # Add the term to the dictionary under the corresponding concept ID\n",
    "        if concept_id in concept_dict:\n",
    "            concept_dict[concept_id].append(term)\n",
    "        else:\n",
    "            concept_dict[concept_id] = [term]\n",
    "\n",
    "\n",
    "\n",
    "# Optionally, write the dictionary to an output file for future use\n",
    "# output_file = 'path/to/concept_terms.txt'\n",
    "# with open(output_file, 'w', encoding='utf-8') as out_file:\n",
    "#     for concept_id, terms in concept_dict.items():\n",
    "#         out_file.write(f'{concept_id}: {\", \".join(terms)}\\n')\n",
    "\n",
    "# print(f\"Concept terms written to {output_file}\")\n"
   ]
  },
  {
   "cell_type": "markdown",
   "metadata": {},
   "source": [
    "### NOW I have a dictionnary with the unique concept ID and their correspondig synonyms\n"
   ]
  },
  {
   "cell_type": "code",
   "execution_count": null,
   "metadata": {},
   "outputs": [],
   "source": [
    "# Print the resulting dictionary (or process it further as needed)\n",
    "for concept_id, terms in concept_dict.items():\n",
    "    print(f'{concept_id}: {terms}')\n",
    "    \n",
    "'''\n",
    "The output will look like this:\n",
    "C0000005: ['2-Methoxyestradiol', '2-Methoxyoestradiol', '2-MeO-E2', '2-MeO-Estradiol', '2-Methoxy-17 beta-estradiol', '2-Methoxy-17 beta-oestradiol', '2-Methoxy-17beta-estradiol', '2-Methoxy-17beta-oestradiol', '2-Methoxyestradiol']\n",
    "C0000008: ['N-Methylaspartate', 'N-Methyl-D-aspartate', 'N-Methyl-D-aspartic acid', 'N-Methyl-D-aspartate', 'N-Methyl-D-aspartic acid', 'N-Methyl-D-aspartate']\n",
    "'''"
   ]
  },
  {
   "cell_type": "markdown",
   "metadata": {},
   "source": [
    "### Let's now filter those concept with only drug semantic types : drug_semantic_types = [\n",
    "    'T121',  # Pharmacologic Substance\n",
    "    'T200',  # Clinical Drug\n",
    "]"
   ]
  },
  {
   "cell_type": "code",
   "execution_count": 4,
   "metadata": {},
   "outputs": [
    {
     "name": "stdout",
     "output_type": "stream",
     "text": [
      "Number of unique concept IDs: 3210943\n"
     ]
    }
   ],
   "source": [
    "# how many unique concept IDs are there?\n",
    "print(f\"Number of unique concept IDs: {len(concept_dict)}\")"
   ]
  },
  {
   "cell_type": "code",
   "execution_count": 5,
   "metadata": {},
   "outputs": [],
   "source": [
    "# Define the input file path for MRSTY.RRF\n",
    "mrsty_file = 'MRSTY.RRF'\n",
    "\n",
    "# Define the desired drug semantic types\n",
    "drug_semantic_types = ['T121', 'T200']\n",
    "\n",
    "# Step 1: Create a set of concept IDs with the desired semantic types\n",
    "drug_concept_ids = set()\n",
    "\n",
    "# Read the MRSTY.RRF file and collect concept IDs with desired semantic types\n",
    "with open(mrsty_file, 'r', encoding='utf-8') as file:\n",
    "    for line in file:\n",
    "        fields = line.strip().split('|')\n",
    "        concept_id = fields[0]\n",
    "        semantic_type = fields[1]\n",
    "        if semantic_type in drug_semantic_types:\n",
    "            drug_concept_ids.add(concept_id)\n",
    "\n",
    "# Step 2: Filter the concept dictionary to include only concept IDs in drug_concept_ids\n",
    "filtered_concept_dict = {concept_id: terms for concept_id, terms in concept_dict.items() if concept_id in drug_concept_ids}\n",
    "\n",
    "# # Print the filtered dictionary (or process it further as needed)\n",
    "# for concept_id, terms in filtered_concept_dict.items():\n",
    "#     print(f'{concept_id}: {terms}')\n",
    "\n",
    "# # Optionally, write the filtered dictionary to an output file for future use\n",
    "# output_file = 'path/to/filtered_concept_terms.txt'\n",
    "# with open(output_file, 'w', encoding='utf-8') as out_file:\n",
    "#     for concept_id, terms in filtered_concept_dict.items():\n",
    "#         out_file.write(f'{concept_id}: {\", \".join(terms)}\\n')\n",
    "\n",
    "# print(f\"Filtered concept terms written to {output_file}\")\n"
   ]
  },
  {
   "cell_type": "code",
   "execution_count": 6,
   "metadata": {},
   "outputs": [
    {
     "name": "stdout",
     "output_type": "stream",
     "text": [
      "Number of unique concept IDs with drug semantic types: 326214\n"
     ]
    }
   ],
   "source": [
    "# size of the filtered dictionary\n",
    "print(f\"Number of unique concept IDs with drug semantic types: {len(filtered_concept_dict)}\")"
   ]
  },
  {
   "cell_type": "code",
   "execution_count": 8,
   "metadata": {},
   "outputs": [
    {
     "name": "stdout",
     "output_type": "stream",
     "text": [
      "C0000005: ['(131)I-Macroaggregated Albumin', '(131)I-MAA']\n",
      "C0000039: ['1,2-dipalmitoylphosphatidylcholine', '1,2-dipalmitoylphosphatidylcholine', '1,2-Dipalmitoylphosphatidylcholine', '1,2 Dipalmitoylphosphatidylcholine', '1,2-Dihexadecyl-sn-Glycerophosphocholine', '1,2 Dihexadecyl sn Glycerophosphocholine', '1,2-Dipalmitoyl-Glycerophosphocholine', '1,2 Dipalmitoyl Glycerophosphocholine', 'Dipalmitoylphosphatidylcholine', 'Dipalmitoylphosphatidylcholine', 'Dipalmitoylphosphatidylcholine', 'Dipalmitoylphosphatidylcholine', 'Dipalmitoylphosphatidylcholine', 'Dipalmitoylglycerophosphocholine', 'Dipalmitoyllecithin', '3,5,9-Trioxa-4-phosphapentacosan-1-aminium, 4-hydroxy-N,N,N-trimethyl-10-oxo-7-((1-oxohexadecyl)oxy)-, inner salt, 4-oxide', 'Dipalmitoyl Phosphatidylcholine', 'Phosphatidylcholine, Dipalmitoyl']\n",
      "C0000096: ['1-Methyl-3-isobutylxanthine', '1 Methyl 3 isobutylxanthine', '3-Isobutyl-1-methylxanthine', '3 Isobutyl 1 methylxanthine', 'IBMX', 'Isobutyltheophylline', '1H-Purine-2,6-dione, 3,7-dihydro-1-methyl-3-(2-methylpropyl)-']\n",
      "C0000107: ['1-Sarcosine-8-Isoleucine Angiotensin II', '1 Sarcosine 8 Isoleucine Angiotensin II', 'Angiotensin II, 1-Sarcosine-8-Isoleucine', '1-Sar-8-Ile Angiotensin II', '1 Sar 8 Ile Angiotensin II', 'Angiotensin II, 1-Sar-8-Ile', '1-(N-Methylglycine)-8-L-Isoleucine-Angiotensin II', 'Angiotensin II, 1-(N-methylglycine)-8-L-isoleucine-', 'Sarile']\n",
      "C0000120: ['synthetic 11-hydroxycorticosteroids']\n",
      "C0000139: ['16,16-Dimethylprostaglandin E2', '16,16-Dimethylprostaglandin E2', '16,16 Dimethylprostaglandin E2', 'E2, 16,16-Dimethylprostaglandin', '16,16-Dimethyl-PGE2', '16,16 Dimethyl PGE2', 'Prosta-5,13-dien-1-oic acid, 11,15-dihydroxy-16,16-dimethyl-9-oxo-, (5Z,11alpha,13E,15R)-', '16,16-Dimethyl Prostaglandin E2', '16,16-Dimethyl Prostaglandin E2', '16, 16-dimethyl prostaglandin E2', 'dmPGE2']\n",
      "C0000151: ['17 beta-Hydroxy-5 beta-Androstan-3-One', '17 beta Hydroxy 5 beta Androstan 3 One', 'beta-Hydroxy-5 beta-Androstan-3-One, 17']\n",
      "C0000172: ['18-Hydroxycorticosterone', '18-Hydroxycorticosterone', '18-Hydroxycorticosterone', '18-Hydroxycorticosterone', '18-Hydroxycorticosterone', '18-Hydroxycorticosterone', '18-hydroxycorticosterone', '18-hydroxycorticosterone', '18 Hydroxycorticosterone', 'Hydroxycorticosterone, 18', '18-Hydrocorticosterone', '18 Hydrocorticosterone', 'Pregn-4-ene-3,20-dione, 11,18,21-trihydroxy-, (11beta)-', '11-beta,18,21-trihydroxypregn-4-ene-3,20-dione', '18-hydroxycorticosterone (substance)']\n",
      "C0000173: ['18-Hydroxydesoxycorticosterone', '18 Hydroxydesoxycorticosterone', 'Hydroxydesoxycorticosterone, 18', '18-Hydroxy-11-Desoxycorticosterone', '18 Hydroxy 11 Desoxycorticosterone', '18-Hydroxy-11-Deoxycorticosterone', '18 Hydroxy 11 Deoxycorticosterone']\n",
      "C0000190: [\"2'-CMP\", \"2' CMP\"]\n"
     ]
    }
   ],
   "source": [
    "# print the first 10 concept IDs and their terms\n",
    "for i, (concept_id, terms) in enumerate(filtered_concept_dict.items()):\n",
    "    print(f'{concept_id}: {terms}')\n",
    "    if i == 9:\n",
    "        break"
   ]
  },
  {
   "cell_type": "code",
   "execution_count": 7,
   "metadata": {},
   "outputs": [],
   "source": [
    "# store the filtered dictionary in a file\n",
    "output_file = 'filtered_by_concept_terms.txt'\n",
    "with open(output_file, 'w', encoding='utf-8') as out_file:\n",
    "    for concept_id, terms in filtered_concept_dict.items():\n",
    "        out_file.write(f'{concept_id}: {\", \".join(terms)}\\n')"
   ]
  },
  {
   "cell_type": "markdown",
   "metadata": {},
   "source": [
    "## GOAL 2 : Retrieve relationships between those "
   ]
  },
  {
   "cell_type": "code",
   "execution_count": 9,
   "metadata": {},
   "outputs": [],
   "source": [
    "# Define the input file path for MRREL.RRF\n",
    "mrrel_file = 'MRREL.RRF'\n",
    "\n",
    "# Initialize a set to hold unique relationship types\n",
    "unique_relationships = set()\n",
    "\n",
    "# Read the MRREL.RRF file and collect unique relationship types\n",
    "with open(mrrel_file, 'r', encoding='utf-8') as file:\n",
    "    for line in file:\n",
    "        fields = line.strip().split('|')\n",
    "        relationship_type = fields[7]  # Relationship type is in the 8th field (index 7)\n",
    "        unique_relationships.add(relationship_type)\n",
    "\n",
    "\n"
   ]
  },
  {
   "cell_type": "markdown",
   "metadata": {},
   "source": [
    "I have all the uniuqe relationships"
   ]
  },
  {
   "cell_type": "code",
   "execution_count": 15,
   "metadata": {},
   "outputs": [
    {
     "name": "stdout",
     "output_type": "stream",
     "text": [
      "Unique relationship types written to unique_relationships.txt\n"
     ]
    }
   ],
   "source": [
    "output_file = 'unique_relationships.txt'\n",
    "with open(output_file, 'w', encoding='utf-8') as out_file:\n",
    "    for relationship in unique_relationships:\n",
    "        out_file.write(f'{relationship}\\n')\n",
    "\n",
    "print(f\"Unique relationship types written to {output_file}\")"
   ]
  },
  {
   "cell_type": "markdown",
   "metadata": {},
   "source": [
    "#### We are interested by only some relations so we filter the MRREL file : "
   ]
  },
  {
   "cell_type": "code",
   "execution_count": 1,
   "metadata": {},
   "outputs": [
    {
     "name": "stdout",
     "output_type": "stream",
     "text": [
      "Filtered relationship types written to filtered_MRREL_by_relation.txt\n"
     ]
    }
   ],
   "source": [
    "# Define the input and output file paths\n",
    "mrrel_file = 'MRREL.RRF'\n",
    "output_file = 'filtered_MRREL_by_relation.txt'\n",
    "\n",
    "# Define the desired semantic relationship types\n",
    "desired_relationship_types = {\n",
    "    'has_contraindicated_class',\n",
    "    'contraindicated_mechanism_of_action_of',\n",
    "    'contraindicated_with_disease',\n",
    "    'has_contraindicated_drug',\n",
    "    'contraindicated_class_of',\n",
    "    'has_contraindicated_class',\n",
    "    'has_contraindicated_physiologic_effect',\n",
    "    'has_contraindicated_mechanism_of_action',\n",
    "    \"effect_may_be_inhibited_by\"\n",
    "}\n",
    "\n",
    "# Open the output file for writing\n",
    "with open(output_file, 'w', encoding='utf-8') as out_file:\n",
    "    # Read the MRREL.RRF file and filter lines based on the desired relationship types\n",
    "    with open(mrrel_file, 'r', encoding='utf-8') as file:\n",
    "        for line in file:\n",
    "            fields = line.strip().split('|')\n",
    "            relationship_type = fields[7]  # Relationship type is in the 8th field (index 7)\n",
    "            if relationship_type in desired_relationship_types:\n",
    "                out_file.write(line)\n",
    "\n",
    "print(f\"Filtered relationship types written to {output_file}\")\n"
   ]
  },
  {
   "cell_type": "code",
   "execution_count": 2,
   "metadata": {},
   "outputs": [
    {
     "name": "stdout",
     "output_type": "stream",
     "text": [
      "Number of filtered relationship types: 27714\n"
     ]
    }
   ],
   "source": [
    "# check the len of the filtered relationship types\n",
    "filtered_relationships = 'filtered_MRREL_by_relation.txt'\n",
    "with open(filtered_relationships, 'r', encoding='utf-8') as file:\n",
    "    count = sum(1 for line in file)\n",
    "    \n",
    "print(f\"Number of filtered relationship types: {count}\") "
   ]
  },
  {
   "cell_type": "markdown",
   "metadata": {},
   "source": [
    "####  Now we have the concept ids of intereest and the relation type of interest but maybe some relations points out concept that we are not interested so we'll remove them "
   ]
  },
  {
   "cell_type": "code",
   "execution_count": 39,
   "metadata": {},
   "outputs": [
    {
     "name": "stdout",
     "output_type": "stream",
     "text": [
      "Filtered relationships of interest written to MR_REL_relation_interest_121_200.txt\n"
     ]
    }
   ],
   "source": [
    "# Define file paths\n",
    "filtered_by_concept_file = 'filtered_by_concept_terms.txt'\n",
    "filtered_mrrel_file = 'filtered_MRREL_by_relation.txt'\n",
    "output_file = 'MR_REL_relation_interest_121_200.txt'\n",
    "\n",
    "# Load concept IDs from filtered_by_concept_terms.txt into a set\n",
    "filtered_concept_ids = set()\n",
    "with open(filtered_by_concept_file, 'r', encoding='utf-8') as concept_file:\n",
    "    for line in concept_file:\n",
    "        concept_id = line.split(':')[0].strip()  # Assuming format is 'concept_id: term1, term2, ...'\n",
    "        filtered_concept_ids.add(concept_id)\n",
    "\n",
    "# Open the output file for writing\n",
    "with open(output_file, 'w', encoding='utf-8') as out_file:\n",
    "    # Read filtered_MRREL_by_relation.txt and filter lines based on concept IDs\n",
    "    with open(filtered_mrrel_file, 'r', encoding='utf-8') as rel_file:\n",
    "        for line in rel_file:\n",
    "            fields = line.strip().split('|')\n",
    "            concept1_id = fields[0]\n",
    "            concept2_id = fields[4]\n",
    "            if concept1_id in filtered_concept_ids and concept2_id in filtered_concept_ids:\n",
    "                out_file.write(line)\n",
    "\n",
    "print(f\"Filtered relationships of interest written to {output_file}\")\n"
   ]
  },
  {
   "cell_type": "code",
   "execution_count": 40,
   "metadata": {},
   "outputs": [
    {
     "name": "stdout",
     "output_type": "stream",
     "text": [
      "Number of filtered relationship types: 3062\n"
     ]
    }
   ],
   "source": [
    "# size of the filtered relationship types\n",
    "filtered_relationships = 'MR_REL_relation_interest_121_200.txt'\n",
    "with open(filtered_relationships, 'r', encoding='utf-8') as file:\n",
    "    count = sum(1 for line in file)\n",
    "    \n",
    "print(f\"Number of filtered relationship types: {count}\")"
   ]
  },
  {
   "cell_type": "markdown",
   "metadata": {},
   "source": [
    "### Finally we only have 4 relationships"
   ]
  },
  {
   "cell_type": "code",
   "execution_count": 41,
   "metadata": {},
   "outputs": [
    {
     "name": "stdout",
     "output_type": "stream",
     "text": [
      "Number of distinct relationship types: 4\n",
      "contraindicated_with_disease\n",
      "has_contraindicated_drug\n",
      "contraindicated_class_of\n",
      "has_contraindicated_class\n"
     ]
    }
   ],
   "source": [
    "# Define file path for the filtered relationships of interest\n",
    "filtered_relationships_file = 'MR_REL_relation_interest_121_200.txt'\n",
    "\n",
    "# Set to store unique relationship types\n",
    "unique_relationship_types = set()\n",
    "\n",
    "# Read the filtered relationships file and count unique relationship types\n",
    "with open(filtered_relationships_file, 'r', encoding='utf-8') as file:\n",
    "    for line in file:\n",
    "        fields = line.strip().split('|')\n",
    "        relationship_type = fields[7]  # Assuming relationship type is in the 8th field (index 7)\n",
    "        unique_relationship_types.add(relationship_type)\n",
    "\n",
    "# Count of distinct relationship types\n",
    "distinct_relationship_count = len(unique_relationship_types)\n",
    "\n",
    "print(f\"Number of distinct relationship types: {distinct_relationship_count}\")\n",
    "# what are the distinct relationship types?\n",
    "for i, relationship_type in enumerate(unique_relationship_types):\n",
    "    print(relationship_type)\n",
    "    if i == 9:\n",
    "        break\n"
   ]
  },
  {
   "cell_type": "code",
   "execution_count": 36,
   "metadata": {},
   "outputs": [
    {
     "name": "stdout",
     "output_type": "stream",
     "text": [
      "C0001655|A31744212|SCUI|RO|C3494354|A20911324|SCUI|has_contraindicated_drug|R182890245||MED-RT|MED-RT||N|N||\n",
      "C0002371|A31694655|SCUI|RO|C0304227|A15579450|SCUI|has_contraindicated_drug|R182877397||MED-RT|MED-RT||N|N||\n",
      "C0002372|A31694657|SCUI|RO|C0304227|A15579450|SCUI|has_contraindicated_drug|R182909004||MED-RT|MED-RT||N|N||\n",
      "C0003596|A31646471|SCUI|RO|C2936526|A18460829|SCUI|has_contraindicated_drug|R182900089||MED-RT|MED-RT||N|N||\n",
      "C0010620|A31724503|SCUI|RO|C0016365|A31710755|SCUI|effect_may_be_inhibited_by|R176752452||MED-RT|MED-RT||Y|N||\n",
      "C0010620|A31724503|SCUI|RO|C0733380|A31705980|SCUI|effect_may_be_inhibited_by|R176830217||MED-RT|MED-RT||Y|N||\n",
      "C0016365|A31710755|SCUI|RO|C0010620|A31724503|SCUI|may_inhibit_effect_of|R176807000||MED-RT|MED-RT||N|N||\n",
      "C0031507|A31643837|SCUI|RO|C0288165|A0914523|SCUI|has_contraindicated_drug|R182899561||MED-RT|MED-RT||N|N||\n",
      "C0040778|A31698854|SCUI|RO|C0006644|A0013998|SCUI|has_contraindicated_drug|R182899648||MED-RT|MED-RT||N|N||\n",
      "C0050559|A31686328|SCUI|RO|C0015137|A0056755|SCUI|has_contraindicated_drug|R182905099||MED-RT|MED-RT||N|N||\n"
     ]
    }
   ],
   "source": [
    "# show the first 10 relationships\n",
    "with open(filtered_relationships_file, 'r', encoding='utf-8') as file:\n",
    "    for i, line in enumerate(file):\n",
    "        print(line.strip())\n",
    "        if i == 9:\n",
    "            break"
   ]
  },
  {
   "cell_type": "markdown",
   "metadata": {},
   "source": [
    "# Now we can generate sentences "
   ]
  },
  {
   "cell_type": "code",
   "execution_count": 30,
   "metadata": {},
   "outputs": [
    {
     "name": "stdout",
     "output_type": "stream",
     "text": [
      "Generated contraindication sentences written to contraindication_sentence.txt\n"
     ]
    }
   ],
   "source": [
    "import random\n",
    "import re\n",
    "\n",
    "# Define file paths\n",
    "filtered_concept_file = 'filtered_by_concept_terms.txt'\n",
    "filtered_relationships_file = 'MR_REL_relation_interest_121_200.txt'\n",
    "output_file = 'contraindication_sentence.txt'\n",
    "\n",
    "# Dictionary to store concept IDs and their synonyms\n",
    "concept_synonyms = {}\n",
    "\n",
    "# Function to check if a string is purely numeric\n",
    "def is_numeric(s):\n",
    "    return s.isdigit()\n",
    "\n",
    "# Read concept IDs and synonyms from filtered_by_concept_terms.txt\n",
    "with open(filtered_concept_file, 'r', encoding='utf-8') as concept_file:\n",
    "    for line in concept_file:\n",
    "        parts = line.strip().split(':')\n",
    "        concept_id = parts[0].strip()\n",
    "        synonyms = [syn.strip() for syn in parts[1].split(',') if not is_numeric(syn.strip())]\n",
    "        concept_synonyms[concept_id] = synonyms\n",
    "\n",
    "# List to store generated sentences\n",
    "generated_sentences = []\n",
    "\n",
    "# Read filtered relationships and generate sentences\n",
    "with open(filtered_relationships_file, 'r', encoding='utf-8') as rel_file:\n",
    "    for line in rel_file:\n",
    "        fields = line.strip().split('|')\n",
    "        concept1_id = fields[0]\n",
    "        concept2_id = fields[4]\n",
    "        relationship_type = fields[7]\n",
    "\n",
    "        if concept1_id in concept_synonyms and concept2_id in concept_synonyms:\n",
    "            concept1_synonym = random.choice(concept_synonyms[concept1_id])\n",
    "            concept2_synonym = random.choice(concept_synonyms[concept2_id])\n",
    "\n",
    "            sentence = f\"{concept1_synonym}, {relationship_type}, {concept2_synonym}\"\n",
    "            generated_sentences.append(sentence)\n",
    "\n",
    "# Write generated sentences to output file\n",
    "with open(output_file, 'w', encoding='utf-8') as out_file:\n",
    "    for sentence in generated_sentences:\n",
    "        out_file.write(f\"{sentence}\\n\")\n",
    "\n",
    "print(f\"Generated contraindication sentences written to {output_file}\")\n"
   ]
  },
  {
   "cell_type": "code",
   "execution_count": 43,
   "metadata": {
    "vscode": {
     "languageId": "bat"
    }
   },
   "outputs": [
    {
     "ename": "SyntaxError",
     "evalue": "invalid syntax (Temp/ipykernel_10940/1360469868.py, line 1)",
     "output_type": "error",
     "traceback": [
      "\u001b[1;36m  File \u001b[1;32m\"C:\\Users\\chamy\\AppData\\Local\\Temp/ipykernel_10940/1360469868.py\"\u001b[1;36m, line \u001b[1;32m1\u001b[0m\n\u001b[1;33m    notes :  - tester les autres relations  de Jack\u001b[0m\n\u001b[1;37m                      ^\u001b[0m\n\u001b[1;31mSyntaxError\u001b[0m\u001b[1;31m:\u001b[0m invalid syntax\n"
     ]
    }
   ],
   "source": [
    "notes :  - tester les autres relations  de Jack\n",
    "          -voir les autres liens de jack (les databases ? ) qui sont sensés fournir plus de détails\n",
    "         "
   ]
  }
 ],
 "metadata": {
  "kernelspec": {
   "display_name": "Python 3",
   "language": "python",
   "name": "python3"
  },
  "language_info": {
   "codemirror_mode": {
    "name": "ipython",
    "version": 3
   },
   "file_extension": ".py",
   "mimetype": "text/x-python",
   "name": "python",
   "nbconvert_exporter": "python",
   "pygments_lexer": "ipython3",
   "version": "3.9.7"
  }
 },
 "nbformat": 4,
 "nbformat_minor": 2
}
