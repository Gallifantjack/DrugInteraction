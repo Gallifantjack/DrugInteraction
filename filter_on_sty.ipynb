{
 "cells": [
  {
   "cell_type": "markdown",
   "metadata": {},
   "source": [
    "# FILTER MRCONSOENG.TXT file by CONCEPT matching T121/T200 => filtered_MRCONSO_ENG.txt"
   ]
  },
  {
   "cell_type": "code",
   "execution_count": 2,
   "metadata": {},
   "outputs": [
    {
     "name": "stdout",
     "output_type": "stream",
     "text": [
      "Filtered entries have been written to filtered_MRCONSO_ENG.txt\n"
     ]
    }
   ],
   "source": [
    "# Define the input file paths\n",
    "mrsty_file = 'MRSTY.RRF'\n",
    "mrconso_file = 'MRCONSO_ENG.txt'\n",
    "output_file = 'filtered_MRCONSO_ENG.txt'\n",
    "\n",
    "# Step 1: Load concept IDs and their types from MRSTY.RRF\n",
    "desired_types = {'T121', 'T200'}\n",
    "concept_types = {}\n",
    "\n",
    "with open(mrsty_file, 'r', encoding='utf-8') as file:\n",
    "    for line in file:\n",
    "        fields = line.strip().split('|')\n",
    "        concept_id = fields[0]\n",
    "        concept_type = fields[1]\n",
    "        if concept_type in desired_types:\n",
    "            concept_types[concept_id] = concept_type\n",
    "\n",
    "# Step 2: Filter MRCONSO_ENG.txt to keep only the lines with desired concept types\n",
    "with open(mrconso_file, 'r', encoding='utf-8') as infile, open(output_file, 'w', encoding='utf-8') as outfile:\n",
    "    for line in infile:\n",
    "        fields = line.strip().split('|')\n",
    "        concept_id = fields[0]\n",
    "        if concept_id in concept_types:\n",
    "            outfile.write(line)\n",
    "\n",
    "print(f\"Filtered entries have been written to {output_file}\")\n"
   ]
  },
  {
   "cell_type": "code",
   "execution_count": 3,
   "metadata": {},
   "outputs": [
    {
     "name": "stdout",
     "output_type": "stream",
     "text": [
      "Number of lines in the output file: 1007713\n"
     ]
    }
   ],
   "source": [
    "# count the number of lines in the output file\n",
    "with open(output_file, 'r', encoding='utf-8') as file:\n",
    "    line_count = sum(1 for line in file)\n",
    "    \n",
    "print(f\"Number of lines in the output file: {line_count}\")"
   ]
  },
  {
   "cell_type": "code",
   "execution_count": 4,
   "metadata": {},
   "outputs": [
    {
     "name": "stdout",
     "output_type": "stream",
     "text": [
      "C0000005|ENG|P|L0000005|PF|S0007492|Y|A26634265||M0019694|D012711|MSH|PEP|D012711|(131)I-Macroaggregated Albumin|0|N|256|\n",
      "...\n",
      "C0000005|ENG|S|L0270109|PF|S0007491|Y|A26634266||M0019694|D012711|MSH|ET|D012711|(131)I-MAA|0|N|256|\n",
      "...\n",
      "C0000039|ENG|P|L0000039|PF|S17175117|N|A28315139|9194921|1926948||RXNORM|IN|1926948|1,2-dipalmitoylphosphatidylcholine|0|N|256|\n"
     ]
    }
   ],
   "source": [
    "# show sample lines from the output file\n",
    "with open(output_file, 'r', encoding='utf-8') as file:\n",
    "    for i, line in enumerate(file):\n",
    "        print(line.strip())\n",
    "        if i >= 2:\n",
    "            break\n",
    "        print('...')\n",
    "    \n",
    "\n",
    "        "
   ]
  },
  {
   "cell_type": "markdown",
   "metadata": {},
   "source": [
    "# Build a dictionnary that contains a concept and all its Atome id from filtered_MRCONSO_ENG.txt => concept_aui_dict.txt\n",
    "dictionnary concept aui C000011111 [A79809U9,A1678...]\n"
   ]
  },
  {
   "cell_type": "code",
   "execution_count": 5,
   "metadata": {},
   "outputs": [
    {
     "name": "stdout",
     "output_type": "stream",
     "text": [
      "Concept-AUI dictionary has been written to concept_aui_dict.txt\n"
     ]
    }
   ],
   "source": [
    "# Define the input file path\n",
    "filtered_mrconso_file = 'filtered_MRCONSO_ENG.txt'\n",
    "output_dict_file = 'concept_aui_dict.txt'\n",
    "\n",
    "# Initialize the dictionary to hold concept IDs and their AUIs\n",
    "concept_aui_dict = {}\n",
    "\n",
    "# Read the filtered MRCONSO_ENG.txt file\n",
    "with open(filtered_mrconso_file, 'r', encoding='utf-8') as infile:\n",
    "    for line in infile:\n",
    "        fields = line.strip().split('|')\n",
    "        concept_id = fields[0]  # CUI is at index 0\n",
    "        aui = fields[7]         # AUI is at index 7\n",
    "\n",
    "        if concept_id in concept_aui_dict:\n",
    "            concept_aui_dict[concept_id].append(aui)\n",
    "        else:\n",
    "            concept_aui_dict[concept_id] = [aui]\n",
    "\n",
    "# Optionally, write the dictionary to a file for future use\n",
    "with open(output_dict_file, 'w', encoding='utf-8') as outfile:\n",
    "    for concept_id, auis in concept_aui_dict.items():\n",
    "        outfile.write(f\"{concept_id}: {', '.join(auis)}\\n\")\n",
    "\n",
    "print(f\"Concept-AUI dictionary has been written to {output_dict_file}\")\n"
   ]
  },
  {
   "cell_type": "code",
   "execution_count": 9,
   "metadata": {},
   "outputs": [
    {
     "name": "stdout",
     "output_type": "stream",
     "text": [
      "C0000005: A26634265, A26634266\n",
      "...\n",
      "C0000039: A28315139, A28572604, A0016515, A1317708, A26674543, A1317687, A26661070, A1317707, A0049238, A18399186, A23513030, A32917594, A26596366, A26607235, A26604498, A0528280, A26631676, A0100864\n",
      "...\n",
      "C0000096: A0526764, A0526362, A26647665, A0528180, A26666443, A26658464, A0527273\n",
      "Number of entries in the concept-AUI dictionary: 326214\n"
     ]
    }
   ],
   "source": [
    "# show sample entries from the concept-AUI dictionary\n",
    "with open(output_dict_file, 'r', encoding='utf-8') as file:\n",
    "    for i, line in enumerate(file):\n",
    "        print(line.strip())\n",
    "        if i >= 2:\n",
    "            break\n",
    "        print('...')\n",
    "        \n",
    "# count the number of entries in the concept-AUI dictionary\n",
    "with open(output_dict_file, 'r', encoding='utf-8') as file:\n",
    "    line_count = sum(1 for line in file)\n",
    "    \n",
    "print(f\"Number of entries in the concept-AUI dictionary: {line_count}\")\n",
    "        \n",
    "        "
   ]
  },
  {
   "cell_type": "markdown",
   "metadata": {},
   "source": [
    "There are 326614 unique concepts"
   ]
  },
  {
   "cell_type": "markdown",
   "metadata": {},
   "source": [
    "# TAKE THE LIST OF RELATIONSHIPS : \n",
    "induced_by\n",
    "contraindicated_mechanism_of_action_of\n",
    "has_risk_factor\n",
    "may_be_prevented_by\n",
    "risk_factor_of\n",
    "may_prevent\n",
    "has_pharmacokinetics\n",
    "enzyme_metabolizes_chemical_or_drug\n",
    "used_by\n",
    "induces\n",
    "has_contraindicated_mechanism_of_action\n",
    "chemical_or_drug_plays_role_in_biological_process\n",
    "has_related_factor\n",
    "time_modifier_of\n",
    "negatively_regulates\n",
    "modified_by\n",
    "associated_with\n",
    "has_contraindicated_drug\n",
    "uses_substance\n",
    "has_excluded_associated_finding\n",
    "chemical_or_drug_is_metabolized_by_enzyme\n",
    "modifies\n",
    "has_contraindicated_class\n",
    "effect_may_be_inhibited_by\n",
    "clinically_associated_with\n",
    "has_contraindicated_physiologic_effect\n",
    "related_to\n",
    "substance_used_by\n",
    "may_inhibit_effect_of\n",
    "positively_regulates\n",
    "is_object_guidance_for\n",
    "uses\n",
    "contraindicated_physiologic_effect_of"
   ]
  },
  {
   "cell_type": "markdown",
   "metadata": {},
   "source": [
    "We will find all the relation of the list above concept to concept that can be found in the filtered_MRCONSO_ENG.txt  => matched_concept_pairs.tx"
   ]
  },
  {
   "cell_type": "code",
   "execution_count": 11,
   "metadata": {},
   "outputs": [
    {
     "name": "stdout",
     "output_type": "stream",
     "text": [
      "Matched concept pairs have been written to matched_concept_pairs.txt\n"
     ]
    }
   ],
   "source": [
    "# Define the file paths\n",
    "mrrel_file = 'MRREL.RRF'\n",
    "filtered_mrconso_file = 'filtered_MRCONSO_ENG.txt'\n",
    "output_pairs_file = 'matched_concept_pairs.txt'\n",
    "\n",
    "# Load the specified relationships into a set\n",
    "specified_relationships = {\n",
    "    'induced_by',\n",
    "    'contraindicated_mechanism_of_action_of',\n",
    "    'has_risk_factor',\n",
    "    'may_be_prevented_by',\n",
    "    'risk_factor_of',\n",
    "    'may_prevent',\n",
    "    'has_pharmacokinetics',\n",
    "    'enzyme_metabolizes_chemical_or_drug',\n",
    "    'used_by',\n",
    "    'induces',\n",
    "    'has_contraindicated_mechanism_of_action',\n",
    "    'chemical_or_drug_plays_role_in_biological_process',\n",
    "    'has_related_factor',\n",
    "    'time_modifier_of',\n",
    "    'negatively_regulates',\n",
    "    'modified_by',\n",
    "    'associated_with',\n",
    "    'has_contraindicated_drug',\n",
    "    'uses_substance',\n",
    "    'has_excluded_associated_finding',\n",
    "    'chemical_or_drug_is_metabolized_by_enzyme',\n",
    "    'modifies',\n",
    "    'has_contraindicated_class',\n",
    "    'effect_may_be_inhibited_by',\n",
    "    'clinically_associated_with',\n",
    "    'has_contraindicated_physiologic_effect',\n",
    "    'related_to',\n",
    "    'substance_used_by',\n",
    "    'may_inhibit_effect_of',\n",
    "    'positively_regulates',\n",
    "    'is_object_guidance_for',\n",
    "    'uses',\n",
    "    'contraindicated_physiologic_effect_of'\n",
    "}\n",
    "\n",
    "# Load the unique concept IDs from the filtered MRCONSO file into a set\n",
    "unique_concepts = set()\n",
    "with open(filtered_mrconso_file, 'r', encoding='utf-8') as infile:\n",
    "    for line in infile:\n",
    "        fields = line.strip().split('|')\n",
    "        concept_id = fields[0]\n",
    "        unique_concepts.add(concept_id)\n",
    "\n",
    "# Initialize a set to hold the matched concept pairs\n",
    "matched_pairs = set()\n",
    "\n",
    "# Read the MRREL.RRF file and find pairs matching the specified relationships\n",
    "with open(mrrel_file, 'r', encoding='utf-8') as infile:\n",
    "    for line in infile:\n",
    "        fields = line.strip().split('|')\n",
    "        concept1 = fields[0]  # CUI1\n",
    "        concept2 = fields[4]  # CUI2\n",
    "        relationship = fields[7]  # REL\n",
    "\n",
    "        # Check if the relationship is one of the specified relationships\n",
    "        if relationship in specified_relationships:\n",
    "            # Check if both concepts are in the unique concepts set\n",
    "            if concept1 in unique_concepts and concept2 in unique_concepts:\n",
    "                # Add the pair to the matched pairs set\n",
    "                matched_pairs.add((concept1, concept2, relationship))\n",
    "\n",
    "# Write the matched pairs to the output file\n",
    "with open(output_pairs_file, 'w', encoding='utf-8') as outfile:\n",
    "    for pair in matched_pairs:\n",
    "        outfile.write(f\"{pair[0]}|{pair[1]}|{pair[2]}\\n\")\n",
    "\n",
    "print(f\"Matched concept pairs have been written to {output_pairs_file}\")\n"
   ]
  },
  {
   "cell_type": "code",
   "execution_count": 13,
   "metadata": {},
   "outputs": [
    {
     "name": "stdout",
     "output_type": "stream",
     "text": [
      "Number of lines in the output file: 2465\n"
     ]
    }
   ],
   "source": [
    "# count the number of lines in the output file\n",
    "with open(output_pairs_file, 'r', encoding='utf-8') as file:\n",
    "    line_count = sum(1 for line in file)\n",
    "    \n",
    "print(f\"Number of lines in the output file: {line_count}\")"
   ]
  },
  {
   "cell_type": "code",
   "execution_count": 14,
   "metadata": {},
   "outputs": [
    {
     "name": "stdout",
     "output_type": "stream",
     "text": [
      "Relationship counts:\n",
      "associated_with: 856\n",
      "has_contraindicated_class: 1507\n",
      "related_to: 50\n",
      "has_contraindicated_drug: 24\n",
      "uses_substance: 10\n",
      "substance_used_by: 10\n",
      "may_be_prevented_by: 2\n",
      "may_inhibit_effect_of: 2\n",
      "effect_may_be_inhibited_by: 2\n",
      "may_prevent: 2\n"
     ]
    }
   ],
   "source": [
    "# count the occurrences of each relationship type\n",
    "relationship_counts = {}\n",
    "with open(output_pairs_file, 'r', encoding='utf-8') as file:\n",
    "    for line in file:\n",
    "        fields = line.strip().split('|')\n",
    "        relationship = fields[2]\n",
    "        if relationship in relationship_counts:\n",
    "            relationship_counts[relationship] += 1\n",
    "        else:\n",
    "            relationship_counts[relationship] = 1\n",
    "            \n",
    "print(\"Relationship counts:\")\n",
    "for relationship, count in relationship_counts.items():\n",
    "    print(f\"{relationship}: {count}\")\n",
    "    \n",
    "    "
   ]
  },
  {
   "cell_type": "markdown",
   "metadata": {},
   "source": [
    "## NoW relation atoms atoms "
   ]
  },
  {
   "cell_type": "code",
   "execution_count": 15,
   "metadata": {},
   "outputs": [
    {
     "name": "stdout",
     "output_type": "stream",
     "text": [
      "Matched atom-to-atom relationships have been written to atom_to_atom_relationships.txt\n"
     ]
    }
   ],
   "source": [
    "# Define the file paths\n",
    "mrrel_file = 'MRREL.RRF'\n",
    "filtered_mrconso_file = 'filtered_MRCONSO_ENG.txt'\n",
    "output_atoms_file = 'atom_to_atom_relationships.txt'\n",
    "\n",
    "# Load the specified relationships into a set\n",
    "specified_relationships = {\n",
    "    'induced_by',\n",
    "    'contraindicated_mechanism_of_action_of',\n",
    "    'has_risk_factor',\n",
    "    'may_be_prevented_by',\n",
    "    'risk_factor_of',\n",
    "    'may_prevent',\n",
    "    'has_pharmacokinetics',\n",
    "    'enzyme_metabolizes_chemical_or_drug',\n",
    "    'used_by',\n",
    "    'induces',\n",
    "    'has_contraindicated_mechanism_of_action',\n",
    "    'chemical_or_drug_plays_role_in_biological_process',\n",
    "    'has_related_factor',\n",
    "    'time_modifier_of',\n",
    "    'negatively_regulates',\n",
    "    'modified_by',\n",
    "    'associated_with',\n",
    "    'has_contraindicated_drug',\n",
    "    'uses_substance',\n",
    "    'has_excluded_associated_finding',\n",
    "    'chemical_or_drug_is_metabolized_by_enzyme',\n",
    "    'modifies',\n",
    "    'has_contraindicated_class',\n",
    "    'effect_may_be_inhibited_by',\n",
    "    'clinically_associated_with',\n",
    "    'has_contraindicated_physiologic_effect',\n",
    "    'related_to',\n",
    "    'substance_used_by',\n",
    "    'may_inhibit_effect_of',\n",
    "    'positively_regulates',\n",
    "    'is_object_guidance_for',\n",
    "    'uses',\n",
    "    'contraindicated_physiologic_effect_of'\n",
    "}\n",
    "\n",
    "# Initialize a dictionary to hold concept IDs and their AUIs\n",
    "concept_aui_dict = {}\n",
    "\n",
    "# Read the filtered MRCONSO_ENG.txt file and populate the dictionary\n",
    "with open(filtered_mrconso_file, 'r', encoding='utf-8') as infile:\n",
    "    for line in infile:\n",
    "        fields = line.strip().split('|')\n",
    "        concept_id = fields[0]  # CUI is at index 0\n",
    "        aui = fields[7]         # AUI is at index 7\n",
    "\n",
    "        if concept_id in concept_aui_dict:\n",
    "            concept_aui_dict[concept_id].append(aui)\n",
    "        else:\n",
    "            concept_aui_dict[concept_id] = [aui]\n",
    "\n",
    "# Create a set of all AUIs for quick look-up\n",
    "all_auis = {aui for auis in concept_aui_dict.values() for aui in auis}\n",
    "\n",
    "# Initialize a set to hold the matched atom-to-atom relationships\n",
    "matched_atom_pairs = set()\n",
    "\n",
    "# Read the MRREL.RRF file and find atom-to-atom relationships matching the specified relationships\n",
    "with open(mrrel_file, 'r', encoding='utf-8') as infile:\n",
    "    for line in infile:\n",
    "        fields = line.strip().split('|')\n",
    "        aui1 = fields[1]  # AUI1 is at index 1\n",
    "        aui2 = fields[5]  # AUI2 is at index 5\n",
    "        relationship = fields[7]  # REL is at index 7\n",
    "\n",
    "        # Check if the relationship is one of the specified relationships and both AUIs are in the dictionary\n",
    "        if relationship in specified_relationships and aui1 in all_auis and aui2 in all_auis:\n",
    "            # Add the atom-to-atom relationship to the matched pairs set\n",
    "            matched_atom_pairs.add((aui1, aui2, relationship))\n",
    "\n",
    "# Write the matched atom-to-atom relationships to the output file\n",
    "with open(output_atoms_file, 'w', encoding='utf-8') as outfile:\n",
    "    for pair in matched_atom_pairs:\n",
    "        outfile.write(f\"{pair[0]}|{pair[1]}|{pair[2]}\\n\")\n",
    "\n",
    "print(f\"Matched atom-to-atom relationships have been written to {output_atoms_file}\")\n"
   ]
  },
  {
   "cell_type": "code",
   "execution_count": 16,
   "metadata": {},
   "outputs": [
    {
     "name": "stdout",
     "output_type": "stream",
     "text": [
      "Number of lines in the output file: 2811\n"
     ]
    }
   ],
   "source": [
    "# count the number of lines in the output file\n",
    "with open(output_atoms_file, 'r', encoding='utf-8') as file:\n",
    "    line_count = sum(1 for line in file)\n",
    "    \n",
    "print(f\"Number of lines in the output file: {line_count}\")"
   ]
  },
  {
   "cell_type": "code",
   "execution_count": 17,
   "metadata": {},
   "outputs": [
    {
     "name": "stdout",
     "output_type": "stream",
     "text": [
      "Relationship counts:\n",
      "has_contraindicated_class: 1507\n",
      "associated_with: 1202\n",
      "related_to: 50\n",
      "substance_used_by: 10\n",
      "effect_may_be_inhibited_by: 2\n",
      "uses_substance: 10\n",
      "has_contraindicated_drug: 24\n",
      "may_prevent: 2\n",
      "may_be_prevented_by: 2\n",
      "may_inhibit_effect_of: 2\n"
     ]
    }
   ],
   "source": [
    "# count the occurrences of each relationship type\n",
    "relationship_counts = {}\n",
    "with open(output_atoms_file, 'r', encoding='utf-8') as file:\n",
    "    for line in file:\n",
    "        fields = line.strip().split('|')\n",
    "        relationship = fields[2]\n",
    "        if relationship in relationship_counts:\n",
    "            relationship_counts[relationship] += 1\n",
    "        else:\n",
    "            relationship_counts[relationship] = 1\n",
    "            \n",
    "print(\"Relationship counts:\")\n",
    "\n",
    "for relationship, count in relationship_counts.items():\n",
    "    print(f\"{relationship}: {count}\")\n",
    "    \n"
   ]
  }
 ],
 "metadata": {
  "kernelspec": {
   "display_name": "Python 3",
   "language": "python",
   "name": "python3"
  },
  "language_info": {
   "codemirror_mode": {
    "name": "ipython",
    "version": 3
   },
   "file_extension": ".py",
   "mimetype": "text/x-python",
   "name": "python",
   "nbconvert_exporter": "python",
   "pygments_lexer": "ipython3",
   "version": "3.9.7"
  }
 },
 "nbformat": 4,
 "nbformat_minor": 2
}
